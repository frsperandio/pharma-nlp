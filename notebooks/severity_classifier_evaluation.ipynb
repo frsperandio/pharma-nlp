{
 "cells": [
  {
   "cell_type": "markdown",
   "id": "78ae1fcf",
   "metadata": {},
   "source": [
    "# Severity Classifier Evaluation\n",
    "\n",
    "This notebook evaluates the accuracy of the severity classification model and provides examples of model explanations."
   ]
  },
  {
   "cell_type": "code",
   "execution_count": null,
   "id": "c9bc641a",
   "metadata": {},
   "outputs": [],
   "source": [
    "import sys\n",
    "import os\n",
    "\n",
    "os.chdir(\"..\")"
   ]
  },
  {
   "cell_type": "code",
   "execution_count": 2,
   "id": "dbc3915b",
   "metadata": {},
   "outputs": [],
   "source": [
    "import pandas as pd\n",
    "from sklearn.model_selection import train_test_split\n",
    "from sklearn.metrics import accuracy_score, classification_report, confusion_matrix\n",
    "import matplotlib.pyplot as plt\n",
    "import seaborn as sns\n",
    "\n",
    "from core.classifier import classify_severity\n"
   ]
  },
  {
   "cell_type": "code",
   "execution_count": 3,
   "id": "93e1e0c9",
   "metadata": {},
   "outputs": [],
   "source": [
    "df = pd.read_csv(\"data/inputs/exemplos_rotulados.csv\")  # must contain 'texto' and 'gravidade_esperada'\n",
    "X_train, X_test, y_train, y_test = train_test_split(df['texto'], df['gravidade_esperada'], test_size=0.2, random_state=42)\n"
   ]
  },
  {
   "cell_type": "code",
   "execution_count": 4,
   "id": "d922b343",
   "metadata": {},
   "outputs": [
    {
     "name": "stdout",
     "output_type": "stream",
     "text": [
      "OpenAI API Key exists and begins sk-proj-\n",
      "Resposta do modelo: Classificação: leve\n",
      "Justificativa: tontura leve é um sintoma comum e autolimitado.\n",
      "Classificação: leve\n",
      "OpenAI API Key exists and begins sk-proj-\n",
      "Resposta do modelo: Classificação: leve\n",
      "Justificativa: sintoma leve e autolimitado, não causa impacto significativo na saúde do paciente.\n",
      "Classificação: leve\n",
      "OpenAI API Key exists and begins sk-proj-\n",
      "Resposta do modelo: Classificação: moderada\n",
      "Justificativa: a visão turva pode indicar um efeito colateral sério que merece atenção médica, embora não represente um risco imediato à vida.\n",
      "Classificação: moderada\n",
      "OpenAI API Key exists and begins sk-proj-\n",
      "Resposta do modelo: Classificação: leve\n",
      "Justificativa: A vermelhidão na pele é um sintoma leve e comum, geralmente autolimitado.\n",
      "Classificação: leve\n"
     ]
    }
   ],
   "source": [
    "y_pred = [classify_severity(text)[0] for text in X_test]  # assume classify_severity returns (label, explanation)\n"
   ]
  },
  {
   "cell_type": "code",
   "execution_count": null,
   "id": "cc0e4187",
   "metadata": {},
   "outputs": [],
   "source": [
    "print(y_test)\n",
    "print(y_pred)"
   ]
  },
  {
   "cell_type": "code",
   "execution_count": 5,
   "id": "83eab25b",
   "metadata": {},
   "outputs": [
    {
     "name": "stdout",
     "output_type": "stream",
     "text": [
      "Accuracy: 1.0\n",
      "\n",
      "Classification Report:\n",
      "               precision    recall  f1-score   support\n",
      "\n",
      "        leve       1.00      1.00      1.00         3\n",
      "    moderada       1.00      1.00      1.00         1\n",
      "\n",
      "    accuracy                           1.00         4\n",
      "   macro avg       1.00      1.00      1.00         4\n",
      "weighted avg       1.00      1.00      1.00         4\n",
      "\n"
     ]
    }
   ],
   "source": [
    "print(\"Accuracy:\", accuracy_score(y_test, y_pred))\n",
    "print(\"\\nClassification Report:\\n\", classification_report(y_test, y_pred))\n"
   ]
  },
  {
   "cell_type": "code",
   "execution_count": null,
   "id": "3486efe0",
   "metadata": {},
   "outputs": [],
   "source": [
    "cm = confusion_matrix(y_test, y_pred)\n",
    "labels = sorted(df['gravidade_esperada'].unique())\n",
    "sns.heatmap(cm, annot=True, fmt=\"d\", cmap=\"Blues\", xticklabels=labels, yticklabels=labels)\n",
    "plt.xlabel('Predicted')\n",
    "plt.ylabel('True')\n",
    "plt.title('Confusion Matrix')\n",
    "plt.show()\n"
   ]
  },
  {
   "cell_type": "code",
   "execution_count": null,
   "id": "5ac56791",
   "metadata": {},
   "outputs": [],
   "source": [
    "for i in range(5):  # Show 5 examples\n",
    "    text = X_test.iloc[i]\n",
    "    pred, explanation = classify_severity(text)\n",
    "    print(f\"Text: {text}\")\n",
    "    print(f\"Predicted Severity: {pred}\")\n",
    "    print(f\"Explanation: {explanation}\")\n",
    "    print(\"-\" * 80)\n"
   ]
  }
 ],
 "metadata": {
  "kernelspec": {
   "display_name": "pharma-nlp",
   "language": "python",
   "name": "python3"
  },
  "language_info": {
   "codemirror_mode": {
    "name": "ipython",
    "version": 3
   },
   "file_extension": ".py",
   "mimetype": "text/x-python",
   "name": "python",
   "nbconvert_exporter": "python",
   "pygments_lexer": "ipython3",
   "version": "3.10.16"
  }
 },
 "nbformat": 4,
 "nbformat_minor": 5
}
