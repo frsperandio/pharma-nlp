{
 "cells": [
  {
   "cell_type": "markdown",
   "id": "78ae1fcf",
   "metadata": {},
   "source": [
    "# Severity Classifier Evaluation\n",
    "\n",
    "This notebook evaluates the accuracy of the severity classification model and provides examples of model explanations."
   ]
  },
  {
   "cell_type": "code",
   "execution_count": 1,
   "id": "c9bc641a",
   "metadata": {},
   "outputs": [],
   "source": [
    "import sys\n",
    "import os\n",
    "\n",
    "os.chdir(\"..\")"
   ]
  },
  {
   "cell_type": "code",
   "execution_count": 2,
   "id": "dbc3915b",
   "metadata": {},
   "outputs": [],
   "source": [
    "import pandas as pd\n",
    "from sklearn.model_selection import train_test_split\n",
    "from sklearn.metrics import accuracy_score, classification_report, confusion_matrix\n",
    "import matplotlib.pyplot as plt\n",
    "import seaborn as sns\n",
    "\n",
    "from core.classifier import classify_severity\n"
   ]
  },
  {
   "cell_type": "code",
   "execution_count": 3,
   "id": "93e1e0c9",
   "metadata": {},
   "outputs": [],
   "source": [
    "df = pd.read_csv(\"data/inputs/exemplos_rotulados.csv\")  # must contain 'texto' and 'gravidade_esperada'\n",
    "X_train, X_test, y_train, y_test = train_test_split(df['texto'], df['gravidade_esperada'], test_size=0.2, random_state=42)\n"
   ]
  },
  {
   "cell_type": "code",
   "execution_count": 4,
   "id": "d922b343",
   "metadata": {},
   "outputs": [],
   "source": [
    "y_pred = [classify_severity(text)[0] for text in X_test]  # assume classify_severity returns (label, explanation)\n"
   ]
  },
  {
   "cell_type": "code",
   "execution_count": 5,
   "id": "83eab25b",
   "metadata": {},
   "outputs": [
    {
     "name": "stdout",
     "output_type": "stream",
     "text": [
      "Accuracy: 0.95\n",
      "\n",
      "Classification Report:\n",
      "               precision    recall  f1-score   support\n",
      "\n",
      "       grave       1.00      1.00      1.00         4\n",
      "        leve       0.92      1.00      0.96        11\n",
      "    moderada       1.00      0.80      0.89         5\n",
      "\n",
      "    accuracy                           0.95        20\n",
      "   macro avg       0.97      0.93      0.95        20\n",
      "weighted avg       0.95      0.95      0.95        20\n",
      "\n"
     ]
    }
   ],
   "source": [
    "print(\"Accuracy:\", accuracy_score(y_test, y_pred))\n",
    "print(\"\\nClassification Report:\\n\", classification_report(y_test, y_pred))\n"
   ]
  },
  {
   "cell_type": "code",
   "execution_count": 6,
   "id": "3486efe0",
   "metadata": {},
   "outputs": [
    {
     "data": {
      "image/png": "[encoded data removed]",
      "text/plain": [
       "<Figure size 640x480 with 2 Axes>"
      ]
     },
     "metadata": {},
     "output_type": "display_data"
    }
   ],
   "source": [
    "cm = confusion_matrix(y_test, y_pred)\n",
    "labels = sorted(df['gravidade_esperada'].unique())\n",
    "sns.heatmap(cm, annot=True, fmt=\"d\", cmap=\"Blues\", xticklabels=labels, yticklabels=labels)\n",
    "plt.xlabel('Predicted')\n",
    "plt.ylabel('True')\n",
    "plt.title('Confusion Matrix')\n",
    "plt.show()\n"
   ]
  },
  {
   "cell_type": "markdown",
   "id": "f2262011",
   "metadata": {},
   "source": [
    "# Analysis of Confusion Matrix Results\n",
    "\n",
    "The confusion matrix shows how well the classifier predicted the severity classes: 'grave', 'leve', and 'moderada'.\n",
    "\n",
    "Interpretation:\n",
    "- 'grave': All 4 instances were correctly classified. ✅\n",
    "- 'leve': Out of 11 instances, 11 were correctly predicted as 'leve'. ✅\n",
    "- 'moderada': Out of 5 instances, 4 were correctly predicted, and 1 was misclassified as 'leve'. 🔄\n",
    "\n",
    "Summary:\n",
    "- The classifier performs very well overall, with only 1 misclassification out of 20 samples.\n",
    "- The only confusion happened between 'moderada' and 'leve', suggesting slight ambiguity between those classes.\n",
    "- No errors involving the 'grave' class, which is important for identifying critical cases.\n",
    "\n",
    "Next Steps:\n",
    "- Review the misclassified sample to assess if the text was ambiguous.\n",
    "- Consider fine-tuning the model further or enriching training examples for 'moderada' to reduce overlap."
   ]
  },
  {
   "cell_type": "code",
   "execution_count": 1,
   "id": "5ac56791",
   "metadata": {},
   "outputs": [
    {
     "ename": "NameError",
     "evalue": "name 'X_test' is not defined",
     "output_type": "error",
     "traceback": [
      "\u001b[1;31m---------------------------------------------------------------------------\u001b[0m",
      "\u001b[1;31mNameError\u001b[0m                                 Traceback (most recent call last)",
      "Cell \u001b[1;32mIn[1], line 2\u001b[0m\n\u001b[0;32m      1\u001b[0m \u001b[38;5;28;01mfor\u001b[39;00m i \u001b[38;5;129;01min\u001b[39;00m \u001b[38;5;28mrange\u001b[39m(\u001b[38;5;241m5\u001b[39m):  \u001b[38;5;66;03m# Show 5 examples\u001b[39;00m\n\u001b[1;32m----> 2\u001b[0m     text \u001b[38;5;241m=\u001b[39m \u001b[43mX_test\u001b[49m\u001b[38;5;241m.\u001b[39miloc[i]\n\u001b[0;32m      3\u001b[0m     pred, explanation \u001b[38;5;241m=\u001b[39m classify_severity(text)\n\u001b[0;32m      4\u001b[0m     \u001b[38;5;28mprint\u001b[39m(\u001b[38;5;124mf\u001b[39m\u001b[38;5;124m\"\u001b[39m\u001b[38;5;124mText: \u001b[39m\u001b[38;5;132;01m{\u001b[39;00mtext\u001b[38;5;132;01m}\u001b[39;00m\u001b[38;5;124m\"\u001b[39m)\n",
      "\u001b[1;31mNameError\u001b[0m: name 'X_test' is not defined"
     ]
    }
   ],
   "source": [
    "for i in range(5):  # Show 5 examples\n",
    "    text = X_test.iloc[i]\n",
    "    pred, explanation = classify_severity(text)\n",
    "    print(f\"Text: {text}\")\n",
    "    print(f\"Predicted Severity: {pred}\")\n",
    "    print(f\"Explanation: {explanation}\")\n",
    "    print(\"-\" * 80)\n"
   ]
  }
 ],
 "metadata": {
  "kernelspec": {
   "display_name": "pharma-nlp",
   "language": "python",
   "name": "python3"
  },
  "language_info": {
   "codemirror_mode": {
    "name": "ipython",
    "version": 3
   },
   "file_extension": ".py",
   "mimetype": "text/x-python",
   "name": "python",
   "nbconvert_exporter": "python",
   "pygments_lexer": "ipython3",
   "version": "3.10.16"
  }
 },
 "nbformat": 4,
 "nbformat_minor": 5
}
